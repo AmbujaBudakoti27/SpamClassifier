{
  "nbformat": 4,
  "nbformat_minor": 0,
  "metadata": {
    "colab": {
      "name": "SpamDetection.ipynb",
      "provenance": [],
      "collapsed_sections": []
    },
    "kernelspec": {
      "display_name": "Python 3",
      "name": "python3"
    },
    "language_info": {
      "name": "python"
    }
  },
  "cells": [
    {
      "cell_type": "markdown",
      "metadata": {
        "id": "1DEYTpo919H1"
      },
      "source": [
        "\n",
        "## **Spam Mail Detection**\n",
        "\n",
        "\n",
        "Spam detection is one of the applications of Machine Learning today. Pretty much all of the major email service providers have spam detection systems built in and automatically classify such mail as 'Junk Mail' or 'Spam'.\n",
        "\n",
        "Here I have used the **Naive Bayes algorithm** to create a model that can classify dataset SMS messages as spam or not spam, based on the training we give to the model. I have further experimented with using **SVM algorthim**.\n",
        "\n",
        "It is important to have some level of intuition as to what a spammy text message might look like. Usually they have words like 'free', 'win', 'winner', 'cash', 'prize' and the like in them as these texts are designed to catch your eye and in some sense tempt you to open them. Also, spam messages tend to have words written in all capitals and also tend to use a lot of exclamation marks. To the recipient, it is usually pretty straightforward to identify a spam text and our objective here is to train a model to do that for us!\n",
        "\n",
        "This is a **binary classification** problem as messages are classified as either 'Spam' or 'Not Spam'. Also, this is a **supervised learning problem**, as we will be feeding a labelled dataset into the model."
      ]
    },
    {
      "cell_type": "code",
      "metadata": {
        "id": "AVi7CMH46vUs"
      },
      "source": [
        "import pandas as pd\n",
        "url = 'https://raw.githubusercontent.com/AmbujaBudakoti27/SpamClassifier/main/SMSSpamCollection'\n",
        "messages = pd.read_csv(url, sep='\\t', names=[\"labels\", \"message\"])"
      ],
      "execution_count": 15,
      "outputs": []
    },
    {
      "cell_type": "code",
      "metadata": {
        "colab": {
          "base_uri": "https://localhost:8080/"
        },
        "id": "I72PYFVJ9UMY",
        "outputId": "d439a2da-b664-49b8-a844-5a007a4ab3d5"
      },
      "source": [
        "import re\n",
        "import nltk\n",
        "nltk.download('stopwords')\n",
        "from nltk.corpus import stopwords\n",
        "corpus = []\n",
        "\n",
        "from nltk.stem.porter import PorterStemmer\n",
        "ps = PorterStemmer()\n",
        "\n",
        "for i in range(0, len(messages)):\n",
        "  m = re.sub('[^a-zA-Z]', ' ', messages[\"message\"][i])\n",
        "  m = m.lower()\n",
        "  m = m.split()\n",
        "  m = [ps.stem(word) for word in m if not word in stopwords.words('english')]\n",
        "  m =' '.join(m)\n",
        "  corpus.append(m)"
      ],
      "execution_count": 16,
      "outputs": [
        {
          "output_type": "stream",
          "text": [
            "[nltk_data] Downloading package stopwords to /root/nltk_data...\n",
            "[nltk_data]   Package stopwords is already up-to-date!\n"
          ],
          "name": "stdout"
        }
      ]
    },
    {
      "cell_type": "code",
      "metadata": {
        "id": "ZkY838QU9XlU"
      },
      "source": [
        "from sklearn.feature_extraction.text import CountVectorizer\n",
        "cv = CountVectorizer(max_features = 2500)\n",
        "X = cv.fit_transform(corpus).toarray()"
      ],
      "execution_count": 17,
      "outputs": []
    },
    {
      "cell_type": "code",
      "metadata": {
        "id": "qQZPzDJI9Zx4"
      },
      "source": [
        "y = pd.get_dummies(messages['labels'])\n",
        "y = y.iloc[:,1].values"
      ],
      "execution_count": 18,
      "outputs": []
    },
    {
      "cell_type": "code",
      "metadata": {
        "id": "kxX1jAIH9hvY"
      },
      "source": [
        "from sklearn.model_selection import train_test_split\n",
        "X_train, X_test, y_train, y_test = train_test_split(X, y, test_size=0.2, random_state=0)"
      ],
      "execution_count": 19,
      "outputs": []
    },
    {
      "cell_type": "markdown",
      "metadata": {
        "id": "XIEUwqII30sj"
      },
      "source": [
        "## **Naive Bayes**\n",
        "Naive Bayes is a probabilistic classifier inspired by the Bayes theorem under a simple assumption which is the attributes are conditionally independent.\n",
        "\n",
        "Naive Bayes is a very simple algorithm to implement and good results have obtained in most cases. It can be easily scalable to larger datasets since it takes linear time, rather than by expensive iterative approximation as used for many other types of classifiers."
      ]
    },
    {
      "cell_type": "markdown",
      "metadata": {
        "id": "zQ1lnjXsDFoO"
      },
      "source": [
        "### Why Multinomial Naive Bayes? What about other models like Gaussian Naive Bayes or Bernoulli Naive Bayes?\n",
        "\n",
        "Well, Multinomial NB considers the frequency count (occurrences) of the features (words in our case) while Bernoulli NB cares only about the presence or absence of a particular feature (word) in the document. The latter is adequate for features that are binary-valued (Bernoulli, boolean). Whereas, with Gaussian NB, features are real-valued or continuous and their distribution is Gaussian, the Iris Flower dataset is an example with continuous features.\n"
      ]
    },
    {
      "cell_type": "code",
      "metadata": {
        "id": "tz7JTnSo9nro"
      },
      "source": [
        "from sklearn.naive_bayes import MultinomialNB\n",
        "spam_detect_model_v1 = MultinomialNB().fit(X_train, y_train)\n",
        "y_pred = spam_detect_model_v1.predict(X_test)\n",
        "\n",
        "from sklearn.metrics import accuracy_score\n",
        "accuracy_v1 = accuracy_score(y_test, y_pred)\n",
        "\n",
        "from sklearn.metrics import confusion_matrix\n",
        "conf_v1 = confusion_matrix(y_test, y_pred)"
      ],
      "execution_count": 20,
      "outputs": []
    },
    {
      "cell_type": "code",
      "metadata": {
        "colab": {
          "base_uri": "https://localhost:8080/"
        },
        "id": "UCfEdn8JvkvK",
        "outputId": "6a8794d6-fff3-4746-d9bf-b1fb6bd87b9b"
      },
      "source": [
        "spam_detect_model_v1.score(X_test,y_test)"
      ],
      "execution_count": 28,
      "outputs": [
        {
          "output_type": "execute_result",
          "data": {
            "text/plain": [
              "0.9856502242152466"
            ]
          },
          "metadata": {
            "tags": []
          },
          "execution_count": 28
        }
      ]
    },
    {
      "cell_type": "code",
      "metadata": {
        "colab": {
          "base_uri": "https://localhost:8080/"
        },
        "id": "itecBleE-Zwx",
        "outputId": "c348f23d-0f60-42a7-b1b0-074ea5ce66d1"
      },
      "source": [
        "print(\"BOW and NaiveBayes\\n\")\n",
        "print(\"accuracy: \", accuracy_v1, \"\\n\")\n",
        "print(conf_v1)"
      ],
      "execution_count": 21,
      "outputs": [
        {
          "output_type": "stream",
          "text": [
            "BOW and NaiveBayes\n",
            "\n",
            "accuracy:  0.9856502242152466 \n",
            "\n",
            "[[946   9]\n",
            " [  7 153]]\n"
          ],
          "name": "stdout"
        }
      ]
    },
    {
      "cell_type": "code",
      "metadata": {
        "colab": {
          "base_uri": "https://localhost:8080/"
        },
        "id": "gY9VcBXP-hTX",
        "outputId": "2e0b7963-c03c-4265-f731-0b95143607fb"
      },
      "source": [
        "from sklearn.metrics import classification_report\n",
        "classificationr=classification_report(y_test, y_pred)\n",
        "print(classificationr)"
      ],
      "execution_count": 22,
      "outputs": [
        {
          "output_type": "stream",
          "text": [
            "              precision    recall  f1-score   support\n",
            "\n",
            "           0       0.99      0.99      0.99       955\n",
            "           1       0.94      0.96      0.95       160\n",
            "\n",
            "    accuracy                           0.99      1115\n",
            "   macro avg       0.97      0.97      0.97      1115\n",
            "weighted avg       0.99      0.99      0.99      1115\n",
            "\n"
          ],
          "name": "stdout"
        }
      ]
    },
    {
      "cell_type": "markdown",
      "metadata": {
        "id": "lIg6CfGB4EEY"
      },
      "source": [
        "## **Support Vector Machine**\n",
        "SVM is a supervised machine learning algorithm which can be used for both classification or regression challenges. However, it is mostly used in classification problems.\n",
        "\n",
        "SVM builds a classifier by searching for a separating hyperplane (optimal hyperplane) which is optimal and maximises the margin that separates the categories (in our case spam and ham). Thus, SVM has the advantage of robustness in general and effectiveness when the number of dimensions is greater than the number of samples.\n",
        "Unlike Naive Bayes, SVM is a non-probabilistic algorithm."
      ]
    },
    {
      "cell_type": "markdown",
      "metadata": {
        "id": "M10A0RVu5Un2"
      },
      "source": [
        "**gamma**: Kernel coefficient for ‘rbf’, ‘poly’ and ‘sigmoid’. Higher the value of gamma, will try to exact fit the as per training data set i.e. generalization error and cause over-fitting problem.\n",
        "\n",
        "**C:** (Regularization parameter) C is 1 by default and it’s a reasonable default choice. If you have a lot of noisy observations you should decrease it: decreasing C corresponds to more regularization."
      ]
    },
    {
      "cell_type": "markdown",
      "metadata": {
        "id": "2y7SAB1xA7h0"
      },
      "source": [
        "**Low values of gamma indicates a large similarity radius** which results in more points being grouped togther. For high vlaues of gamma, the points need to be very close to each other to be considered in the same group.\n",
        "\n",
        "If **C is small, the penalty for misclassification is low** so a decision boundary with large margin is chosen.\n",
        "\n",
        "If **C is large, SVM tries to minimize the numberr of misclassified examples due to high penalty** which results in a decision boundary with a smaller margin."
      ]
    },
    {
      "cell_type": "code",
      "metadata": {
        "colab": {
          "base_uri": "https://localhost:8080/"
        },
        "id": "NmsKe6In6J3T",
        "outputId": "5f2da591-3b05-49a1-c6ac-779eaafe68f9"
      },
      "source": [
        "from sklearn.svm import SVC\n",
        "model_C = SVC(C=10)\n",
        "model_C.fit(X_train, y_train)\n",
        "model_C.score(X_test, y_test)"
      ],
      "execution_count": 37,
      "outputs": [
        {
          "output_type": "execute_result",
          "data": {
            "text/plain": [
              "0.9874439461883409"
            ]
          },
          "metadata": {
            "tags": []
          },
          "execution_count": 37
        }
      ]
    },
    {
      "cell_type": "code",
      "metadata": {
        "colab": {
          "base_uri": "https://localhost:8080/"
        },
        "id": "kpe0Iq776shl",
        "outputId": "5a954039-f543-4c76-b6c1-8a5d55f8592f"
      },
      "source": [
        "from sklearn.svm import SVC\n",
        "model_C2 = SVC(C=100)\n",
        "model_C2.fit(X_train, y_train)\n",
        "model_C2.score(X_test, y_test)"
      ],
      "execution_count": 38,
      "outputs": [
        {
          "output_type": "execute_result",
          "data": {
            "text/plain": [
              "0.9865470852017937"
            ]
          },
          "metadata": {
            "tags": []
          },
          "execution_count": 38
        }
      ]
    },
    {
      "cell_type": "code",
      "metadata": {
        "colab": {
          "base_uri": "https://localhost:8080/"
        },
        "id": "oaDprhKn7ANn",
        "outputId": "e3c9ba4d-e337-4ad9-ffdf-167da71258ac"
      },
      "source": [
        "from sklearn.svm import SVC\n",
        "model_C3 = SVC(C=0.01)\n",
        "model_C3.fit(X_train, y_train)\n",
        "model_C3.score(X_test, y_test)"
      ],
      "execution_count": 39,
      "outputs": [
        {
          "output_type": "execute_result",
          "data": {
            "text/plain": [
              "0.8565022421524664"
            ]
          },
          "metadata": {
            "tags": []
          },
          "execution_count": 39
        }
      ]
    },
    {
      "cell_type": "code",
      "metadata": {
        "colab": {
          "base_uri": "https://localhost:8080/"
        },
        "id": "xqLfIP3ZrlPO",
        "outputId": "ad2fa2d9-d66f-4d1d-ff3d-1cb1d7943890"
      },
      "source": [
        "from sklearn.svm import SVC\n",
        "model_g = SVC(gamma=10)\n",
        "model_g.fit(X_train, y_train)\n",
        "model_g.score(X_test, y_test)"
      ],
      "execution_count": 23,
      "outputs": [
        {
          "output_type": "execute_result",
          "data": {
            "text/plain": [
              "0.9165919282511211"
            ]
          },
          "metadata": {
            "tags": []
          },
          "execution_count": 23
        }
      ]
    },
    {
      "cell_type": "code",
      "metadata": {
        "colab": {
          "base_uri": "https://localhost:8080/"
        },
        "id": "SdtCNUyo_ov6",
        "outputId": "a0fca99e-f1cd-465a-a60c-70fc592db3f2"
      },
      "source": [
        "from sklearn.svm import SVC\n",
        "model_g2 = SVC(gamma=0.01)\n",
        "model_g2.fit(X_train, y_train)\n",
        "model_g2.score(X_test, y_test)"
      ],
      "execution_count": 40,
      "outputs": [
        {
          "output_type": "execute_result",
          "data": {
            "text/plain": [
              "0.9739910313901345"
            ]
          },
          "metadata": {
            "tags": []
          },
          "execution_count": 40
        }
      ]
    },
    {
      "cell_type": "code",
      "metadata": {
        "colab": {
          "base_uri": "https://localhost:8080/"
        },
        "id": "hWLeir6QsB4o",
        "outputId": "5fc92ab4-6746-4992-aa89-f72144f6488d"
      },
      "source": [
        "model_linear_kernal = SVC(kernel='linear')\n",
        "model_linear_kernal.fit(X_train, y_train)\n",
        "model_linear_kernal.score(X_test, y_test)"
      ],
      "execution_count": 33,
      "outputs": [
        {
          "output_type": "execute_result",
          "data": {
            "text/plain": [
              "0.9874439461883409"
            ]
          },
          "metadata": {
            "tags": []
          },
          "execution_count": 33
        }
      ]
    },
    {
      "cell_type": "code",
      "metadata": {
        "colab": {
          "base_uri": "https://localhost:8080/"
        },
        "id": "aNFxaCPns0HG",
        "outputId": "dd1c4501-9ad0-4960-eb76-99b010c4a2dc"
      },
      "source": [
        "model_kernal = SVC(kernel='rbf')\n",
        "model_kernal.fit(X_train, y_train)\n",
        "model_kernal.score(X_test, y_test)"
      ],
      "execution_count": 26,
      "outputs": [
        {
          "output_type": "execute_result",
          "data": {
            "text/plain": [
              "0.9838565022421525"
            ]
          },
          "metadata": {
            "tags": []
          },
          "execution_count": 26
        }
      ]
    },
    {
      "cell_type": "code",
      "metadata": {
        "colab": {
          "base_uri": "https://localhost:8080/"
        },
        "id": "0BUF5r-2zyQu",
        "outputId": "87bc474f-a4c1-4177-93a9-d731ac0e9a9d"
      },
      "source": [
        "model_sigmoid_kernal = SVC(kernel='sigmoid')\n",
        "model_sigmoid_kernal.fit(X_train, y_train)\n",
        "model_sigmoid_kernal.score(X_test, y_test)"
      ],
      "execution_count": 32,
      "outputs": [
        {
          "output_type": "execute_result",
          "data": {
            "text/plain": [
              "0.97847533632287"
            ]
          },
          "metadata": {
            "tags": []
          },
          "execution_count": 32
        }
      ]
    },
    {
      "cell_type": "code",
      "metadata": {
        "colab": {
          "base_uri": "https://localhost:8080/"
        },
        "id": "20iEn3hq0RS7",
        "outputId": "44488ed7-d9a2-4cc6-b36b-ba0eb744a60e"
      },
      "source": [
        "model_poly_kernal = SVC(kernel='poly')\n",
        "model_poly_kernal.fit(X_train, y_train)\n",
        "model_poly_kernal.score(X_test, y_test)"
      ],
      "execution_count": 30,
      "outputs": [
        {
          "output_type": "execute_result",
          "data": {
            "text/plain": [
              "0.9551569506726457"
            ]
          },
          "metadata": {
            "tags": []
          },
          "execution_count": 30
        }
      ]
    },
    {
      "cell_type": "markdown",
      "metadata": {
        "id": "dmD0lzou1Eo0"
      },
      "source": [
        "### Highest accuracy achieved above:\n",
        "\n",
        "from Linear SVM Algorithm :    0.9874439461883409 \n",
        "\n",
        "from Naive Bayes Algorithm:   0.9856502242152466 "
      ]
    }
  ]
}
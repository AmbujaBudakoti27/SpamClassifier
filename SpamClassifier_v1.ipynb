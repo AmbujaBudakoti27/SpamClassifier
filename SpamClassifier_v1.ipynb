{
  "nbformat": 4,
  "nbformat_minor": 0,
  "metadata": {
    "colab": {
      "name": "SpamClassifier_v1.ipynb",
      "provenance": []
    },
    "kernelspec": {
      "name": "python3",
      "display_name": "Python 3"
    },
    "language_info": {
      "name": "python"
    }
  },
  "cells": [
    {
      "cell_type": "code",
      "metadata": {
        "id": "UPpOOIy-vBjo"
      },
      "source": [
        "import pandas as pd\n",
        "url = 'https://raw.githubusercontent.com/AmbujaBudakoti27/SpamClassifier/main/SMSSpamCollection'\n",
        "messages = pd.read_csv(url, sep='\\t', names=['label', 'message'])"
      ],
      "execution_count": 1,
      "outputs": []
    },
    {
      "cell_type": "code",
      "metadata": {
        "colab": {
          "base_uri": "https://localhost:8080/"
        },
        "id": "N0wxk8vswjss",
        "outputId": "93d43d3c-fcfe-4468-9f5b-3b42a3097930"
      },
      "source": [
        "import re\n",
        "import nltk\n",
        "nltk.download('stopwords')\n",
        "from nltk.corpus import stopwords\n",
        "nltk.download('wordnet')\n",
        "from nltk.stem import WordNetLemmatizer\n",
        "lm=WordNetLemmatizer()\n",
        "corpus=[]\n",
        "\n",
        "for i in range(0, len(messages)):\n",
        "  m = re.sub('[^a-zA-Z]', ' ', messages['message'][i])\n",
        "  m = m.lower()\n",
        "  m = m.split()\n",
        "  m = [lm.lemmatize(word) for word in m if not word in stopwords.words('english')]\n",
        "  m = ' '.join(m)\n",
        "  corpus.append(m)"
      ],
      "execution_count": 7,
      "outputs": [
        {
          "output_type": "stream",
          "text": [
            "[nltk_data] Downloading package stopwords to /root/nltk_data...\n",
            "[nltk_data]   Package stopwords is already up-to-date!\n",
            "[nltk_data] Downloading package wordnet to /root/nltk_data...\n",
            "[nltk_data]   Package wordnet is already up-to-date!\n"
          ],
          "name": "stdout"
        }
      ]
    },
    {
      "cell_type": "code",
      "metadata": {
        "id": "W6ktHYMnxstX"
      },
      "source": [
        "from sklearn.feature_extraction.text import TfidfVectorizer\n",
        "tv = TfidfVectorizer()\n",
        "X = tv.fit_transform(corpus).toarray()\n",
        "\n",
        "y = pd.get_dummies(messages['label'])\n",
        "y = y.iloc[:,1].values"
      ],
      "execution_count": 11,
      "outputs": []
    },
    {
      "cell_type": "code",
      "metadata": {
        "id": "mE3wHhgMy1ou"
      },
      "source": [
        "from sklearn.model_selection import train_test_split\n",
        "X_train, X_test, y_train, y_test = train_test_split(X, y, test_size=0.2, random_state = 0)"
      ],
      "execution_count": 13,
      "outputs": []
    },
    {
      "cell_type": "code",
      "metadata": {
        "id": "ZeY0d0mwzTVy"
      },
      "source": [
        "from sklearn.naive_bayes import MultinomialNB\n",
        "spam_detect_model = MultinomialNB().fit(X_train, y_train)\n",
        "y_pred = spam_detect_model.predict(X_test)"
      ],
      "execution_count": 14,
      "outputs": []
    },
    {
      "cell_type": "code",
      "metadata": {
        "colab": {
          "base_uri": "https://localhost:8080/"
        },
        "id": "CQYf5RhSzydd",
        "outputId": "dcec7585-034c-45c9-fe7a-69941db41785"
      },
      "source": [
        "from sklearn.metrics import confusion_matrix\n",
        "confusion_m = confusion_matrix(y_test, y_pred)\n",
        "confusion_m"
      ],
      "execution_count": 15,
      "outputs": [
        {
          "output_type": "execute_result",
          "data": {
            "text/plain": [
              "array([[955,   0],\n",
              "       [ 31, 129]])"
            ]
          },
          "metadata": {
            "tags": []
          },
          "execution_count": 15
        }
      ]
    },
    {
      "cell_type": "code",
      "metadata": {
        "colab": {
          "base_uri": "https://localhost:8080/"
        },
        "id": "0cNULnB908vP",
        "outputId": "687e86b4-a75f-4f9c-cfef-25d90520a826"
      },
      "source": [
        "from sklearn.metrics import accuracy_score\n",
        "accuracy = accuracy_score(y_test, y_pred)\n",
        "print(\"Accuracy for this model is: \", accuracy)"
      ],
      "execution_count": 17,
      "outputs": [
        {
          "output_type": "stream",
          "text": [
            "Accuracy for this model is:  0.9721973094170404\n"
          ],
          "name": "stdout"
        }
      ]
    }
  ]
}